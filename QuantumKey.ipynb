{
 "cells": [
  {
   "cell_type": "code",
   "execution_count": 172,
   "metadata": {},
   "outputs": [],
   "source": [
    "#other useful packages\n",
    "import math\n",
    "import matplotlib.pyplot as plt\n",
    "%matplotlib inline\n",
    "import numpy as np\n",
    "\n",
    "# Import Qiskit\n",
    "from qiskit import Aer, execute\n",
    "from qiskit import QuantumCircuit, ClassicalRegister, QuantumRegister"
   ]
  },
  {
   "cell_type": "code",
   "execution_count": 173,
   "metadata": {},
   "outputs": [
    {
     "name": "stdout",
     "output_type": "stream",
     "text": [
      "Your super secret message:  hello world\n",
      "Initial key length:  33\n"
     ]
    }
   ],
   "source": [
    "#Super secret message\n",
    "mes = 'hello world'\n",
    "print('Your super secret message: ',mes)\n",
    "\n",
    "#initial size of key\n",
    "n = len(mes)*3\n",
    "# n=10\n",
    "\n",
    "#break up message into smaller parts if length > 10\n",
    "nlist = []\n",
    "for i in range(int(n/10)):\n",
    "    nlist.append(10)\n",
    "if n%10 != 0:\n",
    "    nlist.append(n%10)\n",
    "\n",
    "print('Initial key length: ',n)\n",
    "# print(nlist)"
   ]
  },
  {
   "cell_type": "code",
   "execution_count": 174,
   "metadata": {},
   "outputs": [],
   "source": [
    "# Make random strings of length string_length\n",
    "\n",
    "def randomStringGen(string_length):\n",
    "    #output variables used to access quantum computer results at the end of the function\n",
    "    output_list = []\n",
    "    output = ''\n",
    "    \n",
    "    #start up your quantum circuit information\n",
    "    backend = Aer.get_backend('qasm_simulator')  \n",
    "    circuits = ['rs']\n",
    "    \n",
    "    #run circuit in batches of 10 qubits for fastest results. The results\n",
    "    #from each run will be appended and then clipped down to the right n size.\n",
    "    n = string_length\n",
    "    temp_n = 10\n",
    "    temp_output = ''\n",
    "\n",
    "    # math.ceil()函数返回大于数字的最小整数值。如果 number 已经是整数，则返回相同的数字\n",
    "    for i in range(math.ceil(n/temp_n)):\n",
    "        #initialize quantum registers for circuit\n",
    "        q = QuantumRegister(temp_n, name='q')\n",
    "        c = ClassicalRegister(temp_n, name='c')\n",
    "        rs = QuantumCircuit(q, c, name='rs')\n",
    "           \n",
    "        #create temp_n number of qubits all in superpositions\n",
    "        for i in range(temp_n):\n",
    "            rs.h(q[i]) #the .h gate is the Hadamard gate that makes superpositions\n",
    "            rs.measure(q[i],c[i])\n",
    "        rs.draw('mpl') \n",
    "        #execute circuit and extract 0s and 1s from key\n",
    "        result = execute(rs, backend, shots=1).result()\n",
    "        counts = result.get_counts(rs)\n",
    "        result_key = list(result.get_counts(rs).keys())\n",
    "        temp_output = result_key[0]\n",
    "        output += temp_output\n",
    "    # rs.draw('mpl')\n",
    "    #return output clipped to size of desired string length\n",
    "    return output[:n]\n",
    "    \n",
    "    "
   ]
  },
  {
   "cell_type": "code",
   "execution_count": 175,
   "metadata": {},
   "outputs": [
    {
     "name": "stdout",
     "output_type": "stream",
     "text": [
      "Initial key:  011110111011100001101010110101011\n"
     ]
    }
   ],
   "source": [
    "key = randomStringGen(n)\n",
    "print('Initial key: ',key)\n",
    "\n"
   ]
  },
  {
   "cell_type": "code",
   "execution_count": 176,
   "metadata": {},
   "outputs": [
    {
     "name": "stdout",
     "output_type": "stream",
     "text": [
      "Alice's rotation string: 101111110100010111100010010001110\n",
      "Bob's rotation string:   011111110100001000110101100011010\n",
      "Bob's results:  001110111011100100101110100101011\n"
     ]
    },
    {
     "data": {
      "image/png": "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",
      "text/plain": [
       "<Figure size 387.597x264.88 with 1 Axes>"
      ]
     },
     "execution_count": 176,
     "metadata": {},
     "output_type": "execute_result"
    }
   ],
   "source": [
    "#generate random rotation strings for Alice and Bob\n",
    "Alice_rotate = randomStringGen(n)\n",
    "Bob_rotate = randomStringGen(n)\n",
    "# print(\"Alice's rotation string:\",Alice_rotate)\n",
    "# print(\"Bob's rotation string:  \",Bob_rotate)\n",
    "\n",
    "#start up your quantum program\n",
    "backend = Aer.get_backend('qasm_simulator')  \n",
    "shots = 1\n",
    "circuits = ['send_over']\n",
    "Bob_result = ''\n",
    "\n",
    "for ind,l in enumerate(nlist):\n",
    "    #define temp variables used in breaking up quantum program if message length > 10\n",
    "    if l < 10:\n",
    "        key_temp = key[10*ind:10*ind+l]\n",
    "        Ar_temp = Alice_rotate[10*ind:10*ind+l]\n",
    "        Br_temp = Bob_rotate[10*ind:10*ind+l]\n",
    "    else:\n",
    "        key_temp = key[l*ind:l*(ind+1)]\n",
    "        Ar_temp = Alice_rotate[l*ind:l*(ind+1)]\n",
    "        Br_temp = Bob_rotate[l*ind:l*(ind+1)]\n",
    "    \n",
    "    #start up the rest of your quantum circuit information\n",
    "    q = QuantumRegister(l, name='q')\n",
    "    c = ClassicalRegister(l, name='c')\n",
    "    send_over = QuantumCircuit(q, c, name='send_over')\n",
    "    \n",
    "    \n",
    "    #prepare qubits based on key; add Hadamard gates based on Alice's and Bob's\n",
    "    #rotation strings\n",
    "    for i,j,k,n in zip(key_temp,Ar_temp,Br_temp,range(0,len(key_temp))):\n",
    "        i = int(i)\n",
    "        j = int(j)\n",
    "        k = int(k)\n",
    "        if i > 0:\n",
    "            send_over.x(q[n])\n",
    "        #Look at Alice's rotation string\n",
    "        if j > 0:\n",
    "            send_over.h(q[n])\n",
    "        #Look at Bob's rotation string\n",
    "        if k > 0:\n",
    "            send_over.h(q[n])\n",
    "        send_over.measure(q[n],c[n])\n",
    "        # send_over.draw('mpl')\n",
    "    #execute quantum circuit\n",
    "    result_so = execute([send_over], backend, shots=shots).result()\n",
    "    counts_so = result_so.get_counts(send_over)\n",
    "    result_key_so = list(result_so.get_counts(send_over).keys())\n",
    "    Bob_result += result_key_so[0][::-1]\n",
    "\n",
    "\n",
    "print(\"Alice's rotation string:\",Alice_rotate)\n",
    "print(\"Bob's rotation string:  \",Bob_rotate)\n",
    "\n",
    "print(\"Bob's results: \", Bob_result)\n",
    "send_over.draw('mpl')"
   ]
  },
  {
   "cell_type": "code",
   "execution_count": 177,
   "metadata": {},
   "outputs": [
    {
     "name": "stdout",
     "output_type": "stream",
     "text": [
      "Alice's key: 111011101111101111\n",
      "Bob's key:   111011101111101111\n",
      "18\n"
     ]
    }
   ],
   "source": [
    "def makeKey(rotation1,rotation2,results):\n",
    "    key = ''\n",
    "    count = 0\n",
    "    for i,j in zip(rotation1,rotation2):\n",
    "        if i == j:\n",
    "            key += results[count]\n",
    "        count += 1\n",
    "    return key\n",
    "  \n",
    "Akey = makeKey(Bob_rotate,Alice_rotate,key)\n",
    "Bkey = makeKey(Bob_rotate,Alice_rotate,Bob_result)\n",
    "\n",
    "print(\"Alice's key:\",Akey)\n",
    "print(\"Bob's key:  \",Bkey)\n",
    "print(len(Akey))"
   ]
  },
  {
   "cell_type": "code",
   "execution_count": 178,
   "metadata": {},
   "outputs": [
    {
     "name": "stdout",
     "output_type": "stream",
     "text": [
      "Eve's results:  111010001111100010101000100101101\n"
     ]
    }
   ],
   "source": [
    "#start up your quantum program\n",
    "backend = Aer.get_backend('qasm_simulator')  \n",
    "shots = 1\n",
    "circuits = ['Eve']\n",
    "\n",
    "Eve_result = ''\n",
    "for ind,l in enumerate(nlist):\n",
    "    #define temp variables used in breaking up quantum program if message length > 10\n",
    "    if l < 10:\n",
    "        key_temp = key[10*ind:10*ind+l]\n",
    "        Ar_temp = Alice_rotate[10*ind:10*ind+l]\n",
    "    else:\n",
    "        key_temp = key[l*ind:l*(ind+1)]\n",
    "        Ar_temp = Alice_rotate[l*ind:l*(ind+1)]\n",
    "    \n",
    "    #start up the rest of your quantum circuit information\n",
    "    q = QuantumRegister(l, name='q')\n",
    "    c = ClassicalRegister(l, name='c')\n",
    "    Eve = QuantumCircuit(q, c, name='Eve')\n",
    "    \n",
    "    #prepare qubits based on key; add Hadamard gates based on Alice's and Bob's\n",
    "    #rotation strings\n",
    "    for i,j,n in zip(key_temp,Ar_temp,range(0,len(key_temp))):\n",
    "        i = int(i)\n",
    "        j = int(j)\n",
    "        if i > 0:\n",
    "            Eve.x(q[n])\n",
    "        if j > 0:\n",
    "            Eve.h(q[n])\n",
    "        Eve.measure(q[n],c[n])\n",
    "    \n",
    "    #execute\n",
    "    result_eve = execute(Eve, backend, shots=shots).result()\n",
    "    counts_eve = result_eve.get_counts()\n",
    "    result_key_eve = list(result_eve.get_counts().keys())\n",
    "    Eve_result += result_key_eve[0][::-1]\n",
    "\n",
    "print(\"Eve's results: \", Eve_result)"
   ]
  },
  {
   "cell_type": "code",
   "execution_count": 179,
   "metadata": {},
   "outputs": [
    {
     "name": "stdout",
     "output_type": "stream",
     "text": [
      "Bob's previous results (w/o Eve): 001110111011100100101110100101011\n",
      "Bob's results from Eve:\t\t  110011001011100010101000100100101\n"
     ]
    }
   ],
   "source": [
    "#start up your quantum program\n",
    "backend = Aer.get_backend('qasm_simulator')  \n",
    "shots = 1\n",
    "circuits = ['Eve2']\n",
    "\n",
    "Bob_badresult = ''\n",
    "for ind,l in enumerate(nlist):\n",
    "    #define temp variables used in breaking up quantum program if message length > 10\n",
    "    if l < 10:\n",
    "        key_temp = key[10*ind:10*ind+l]\n",
    "        Eve_temp = Eve_result[10*ind:10*ind+l]\n",
    "        Br_temp = Bob_rotate[10*ind:10*ind+l]\n",
    "    else:\n",
    "        key_temp = key[l*ind:l*(ind+1)]\n",
    "        Eve_temp = Eve_result[l*ind:l*(ind+1)]\n",
    "        Br_temp = Bob_rotate[l*ind:l*(ind+1)]\n",
    "    \n",
    "    #start up the rest of your quantum circuit information\n",
    "    q = QuantumRegister(l, name='q')\n",
    "    c = ClassicalRegister(l, name='c')\n",
    "    Eve2 = QuantumCircuit(q , c, name='Eve2')\n",
    "    \n",
    "    #prepare qubits\n",
    "    for i,j,n in zip(Eve_temp,Br_temp,range(0,len(key_temp))):\n",
    "        i = int(i)\n",
    "        j = int(j)\n",
    "        if i > 0:\n",
    "            Eve2.x(q[n])\n",
    "        if j > 0:\n",
    "            Eve2.h(q[n])\n",
    "        Eve2.measure(q[n],c[n])\n",
    "    \n",
    "    #execute\n",
    "    result_eve = execute(Eve2, backend, shots=shots).result()\n",
    "    counts_eve = result_eve.get_counts()\n",
    "    result_key_eve = list(result_eve.get_counts().keys())\n",
    "    Bob_badresult += result_key_eve[0][::-1]\n",
    "    \n",
    "print(\"Bob's previous results (w/o Eve):\",Bob_result)\n",
    "print(\"Bob's results from Eve:\\t\\t \",Bob_badresult)"
   ]
  },
  {
   "cell_type": "code",
   "execution_count": 180,
   "metadata": {},
   "outputs": [
    {
     "name": "stdout",
     "output_type": "stream",
     "text": [
      "Alice's key:    111011101111101111\n",
      "Bob's key:      001100101111101001\n",
      "spots to check: 001110100111100110\n"
     ]
    }
   ],
   "source": [
    "#make keys for Alice and Bob\n",
    "Akey = makeKey(Bob_rotate,Alice_rotate,key)\n",
    "Bkey = makeKey(Bob_rotate,Alice_rotate,Bob_badresult)\n",
    "print(\"Alice's key:   \",Akey)\n",
    "print(\"Bob's key:     \",Bkey)\n",
    "\n",
    "check_key = randomStringGen(len(Akey))\n",
    "print('spots to check:',check_key)"
   ]
  },
  {
   "cell_type": "code",
   "execution_count": 181,
   "metadata": {},
   "outputs": [
    {
     "name": "stdout",
     "output_type": "stream",
     "text": [
      "subset of Alice's key: 1011111111\n",
      "subset of Bob's key:   1101111100\n",
      "Eve detected!\n"
     ]
    }
   ],
   "source": [
    "#find which values in rotation string were used to make the key\n",
    "Alice_keyrotate = makeKey(Bob_rotate,Alice_rotate,Alice_rotate)\n",
    "Bob_keyrotate = makeKey(Bob_rotate,Alice_rotate,Bob_rotate)\n",
    "\n",
    "# Detect Eve's interference\n",
    "#extract a subset of Alice's key\n",
    "sub_Akey = ''\n",
    "sub_Arotate = ''\n",
    "count = 0\n",
    "for i,j in zip(Alice_rotate,Akey):\n",
    "    if int(check_key[count]) == 1:\n",
    "        sub_Akey += Akey[count]\n",
    "        sub_Arotate += Alice_keyrotate[count]\n",
    "    count += 1\n",
    "\n",
    "#extract a subset of Bob's key\n",
    "sub_Bkey = ''\n",
    "sub_Brotate = ''\n",
    "count = 0\n",
    "for i,j in zip(Bob_rotate,Bkey):\n",
    "    if int(check_key[count]) == 1:\n",
    "        sub_Bkey += Bkey[count]\n",
    "        sub_Brotate += Bob_keyrotate[count]\n",
    "    count += 1\n",
    "print(\"subset of Alice's key:\",sub_Akey)\n",
    "print(\"subset of Bob's key:  \",sub_Bkey)\n",
    "\n",
    "#compare Alice and Bob's key subsets\n",
    "secure = True\n",
    "for i,j in zip(sub_Akey,sub_Bkey):\n",
    "    if i == j:\n",
    "        secure = True\n",
    "    else:\n",
    "        secure = False\n",
    "        break;\n",
    "if not secure:\n",
    "    print('Eve detected!')\n",
    "else:\n",
    "    print('Eve escaped detection!')\n",
    "\n",
    "#sub_Akey and sub_Bkey are public knowledge now, so we remove them from Akey and Bkey\n",
    "if secure:\n",
    "    new_Akey = ''\n",
    "    new_Bkey = ''\n",
    "    for index,i in enumerate(check_key):\n",
    "        if int(i) == 0:\n",
    "            new_Akey += Akey[index]\n",
    "            new_Bkey += Bkey[index]\n",
    "    print('new A and B keys: ',new_Akey,new_Bkey)\n",
    "    if(len(mes)>len(new_Akey)):\n",
    "        print('Your new key is not long enough.')"
   ]
  }
 ],
 "metadata": {
  "kernelspec": {
   "display_name": "Python 3.9.7 ('base')",
   "language": "python",
   "name": "python3"
  },
  "language_info": {
   "codemirror_mode": {
    "name": "ipython",
    "version": 3
   },
   "file_extension": ".py",
   "mimetype": "text/x-python",
   "name": "python",
   "nbconvert_exporter": "python",
   "pygments_lexer": "ipython3",
   "version": "3.9.7"
  },
  "orig_nbformat": 4,
  "vscode": {
   "interpreter": {
    "hash": "5179d32cf6ec497baf3f8a3ef987cc77c5d2dc691fdde20a56316522f61a7323"
   }
  }
 },
 "nbformat": 4,
 "nbformat_minor": 2
}
11111
2222